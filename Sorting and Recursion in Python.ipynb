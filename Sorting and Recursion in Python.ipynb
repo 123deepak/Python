{
 "cells": [
  {
   "cell_type": "code",
   "execution_count": 1,
   "metadata": {
    "collapsed": true
   },
   "outputs": [],
   "source": [
    "import numpy as np"
   ]
  },
  {
   "cell_type": "code",
   "execution_count": 2,
   "metadata": {
    "collapsed": true
   },
   "outputs": [],
   "source": [
    "def factorial(n):\n",
    "    if(n <= 1):\n",
    "        return 1\n",
    "    return n * factorial(n-1)"
   ]
  },
  {
   "cell_type": "code",
   "execution_count": 3,
   "metadata": {
    "collapsed": true
   },
   "outputs": [],
   "source": [
    "def bubble_sort(array):\n",
    "    l = len(array)\n",
    "    for i in range(l-1):\n",
    "        j = 0\n",
    "        while(j < l-i-1):\n",
    "            if(array[j]>array[j+1]):\n",
    "                array[j],array[j+1] = array[j+1],array[j]\n",
    "            j = j+1\n",
    "    return array"
   ]
  },
  {
   "cell_type": "code",
   "execution_count": 4,
   "metadata": {
    "collapsed": true
   },
   "outputs": [],
   "source": [
    "def selection_sort(array):\n",
    "    l = len(array)\n",
    "    for i in range(l-1):\n",
    "        j = i+1\n",
    "        minn = i\n",
    "        while(j < l):\n",
    "            if(array[j]<array[minn]):\n",
    "                minn = j\n",
    "            j = j+1\n",
    "        array[i], array[minn] = array[minn], array[i]\n",
    "    return array"
   ]
  },
  {
   "cell_type": "code",
   "execution_count": 5,
   "metadata": {
    "collapsed": true
   },
   "outputs": [],
   "source": [
    "def insertion_sort(array):\n",
    "    l = len(array)\n",
    "    i = 1\n",
    "    while(i<l):\n",
    "        key = array[i]\n",
    "        j = i-1\n",
    "        while(j>=0 and key<array[j]):\n",
    "            array[j+1] = array[j]\n",
    "            j = j-1\n",
    "        array[j+1] = key\n",
    "        i = i+1\n",
    "    return array"
   ]
  },
  {
   "cell_type": "code",
   "execution_count": 6,
   "metadata": {
    "collapsed": true
   },
   "outputs": [],
   "source": [
    "def main():\n",
    "    n = 5\n",
    "    print(\"The factorial value of\", n, \"is\", factorial(n))\n",
    "    print()\n",
    "    \n",
    "    arr = np.array([6, 1, 9, 10, 15, -4, 56, 12, 145, 5])\n",
    "    print('Before Sorting, array is:          ', arr)\n",
    "    print(\"After Bubble sort, the array is:   \", bubble_sort(arr))\n",
    "    print()\n",
    "    \n",
    "    arr = np.array([6, 1, 9, 10, 15, -4, 56, 12, 145, 5])\n",
    "    print('Before Sorting, array is:          ', arr)\n",
    "    print(\"After Selection sort, the array is:\", selection_sort(arr))\n",
    "    print()\n",
    "    \n",
    "    arr = np.array([6, 1, 9, 10, 15, -4, 56, 12, 145, 5])\n",
    "    print('Before Sorting, array is:          ', arr)\n",
    "    print(\"After Insertion sort, the array is:\", insertion_sort(arr))"
   ]
  },
  {
   "cell_type": "code",
   "execution_count": 7,
   "metadata": {},
   "outputs": [
    {
     "name": "stdout",
     "output_type": "stream",
     "text": [
      "The factorial value of 5 is 120\n",
      "\n",
      "Before Sorting, array is:           [  6   1   9  10  15  -4  56  12 145   5]\n",
      "After Bubble sort, the array is:    [ -4   1   5   6   9  10  12  15  56 145]\n",
      "\n",
      "Before Sorting, array is:           [  6   1   9  10  15  -4  56  12 145   5]\n",
      "After Selection sort, the array is: [ -4   1   5   6   9  10  12  15  56 145]\n",
      "\n",
      "Before Sorting, array is:           [  6   1   9  10  15  -4  56  12 145   5]\n",
      "After Insertion sort, the array is: [ -4   1   5   6   9  10  12  15  56 145]\n"
     ]
    }
   ],
   "source": [
    "main()"
   ]
  }
 ],
 "metadata": {
  "kernelspec": {
   "display_name": "Python 3",
   "language": "python",
   "name": "python3"
  },
  "language_info": {
   "codemirror_mode": {
    "name": "ipython",
    "version": 3
   },
   "file_extension": ".py",
   "mimetype": "text/x-python",
   "name": "python",
   "nbconvert_exporter": "python",
   "pygments_lexer": "ipython3",
   "version": "3.6.3"
  }
 },
 "nbformat": 4,
 "nbformat_minor": 2
}
