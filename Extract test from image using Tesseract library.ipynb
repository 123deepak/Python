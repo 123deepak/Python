{
 "cells": [
  {
   "cell_type": "code",
   "execution_count": 1,
   "metadata": {
    "collapsed": true
   },
   "outputs": [],
   "source": [
    "from PIL import Image\n",
    "import pytesseract"
   ]
  },
  {
   "cell_type": "code",
   "execution_count": 2,
   "metadata": {
    "collapsed": true
   },
   "outputs": [],
   "source": [
    "result = pytesseract.image_to_string(Image.open(\"C:\\\\Users\\\\Deepak\\\\Downloads\\\\test.png\"))"
   ]
  },
  {
   "cell_type": "code",
   "execution_count": 3,
   "metadata": {},
   "outputs": [
    {
     "data": {
      "text/plain": [
       "'Tomorrow, and\\ntomorrow, and\\ntomorrow; creeps\\nin this petty pace\\nfrom day to day,\\nuntil the last syll-\\nable of recorded\\ntime. And all our\\nyesterdays have\\nlighted fools the\\nway to dusty'"
      ]
     },
     "execution_count": 3,
     "metadata": {},
     "output_type": "execute_result"
    }
   ],
   "source": [
    "result"
   ]
  },
  {
   "cell_type": "code",
   "execution_count": 4,
   "metadata": {},
   "outputs": [
    {
     "name": "stdout",
     "output_type": "stream",
     "text": [
      "Tomorrow, and\n",
      "tomorrow, and\n",
      "tomorrow; creeps\n",
      "in this petty pace\n",
      "from day to day,\n",
      "until the last syll-\n",
      "able of recorded\n",
      "time. And all our\n",
      "yesterdays have\n",
      "lighted fools the\n",
      "way to dusty\n"
     ]
    }
   ],
   "source": [
    "for i in result.split('\\n'):\n",
    "    print(i)"
   ]
  }
 ],
 "metadata": {
  "kernelspec": {
   "display_name": "Python 3",
   "language": "python",
   "name": "python3"
  },
  "language_info": {
   "codemirror_mode": {
    "name": "ipython",
    "version": 3
   },
   "file_extension": ".py",
   "mimetype": "text/x-python",
   "name": "python",
   "nbconvert_exporter": "python",
   "pygments_lexer": "ipython3",
   "version": "3.6.3"
  }
 },
 "nbformat": 4,
 "nbformat_minor": 2
}
