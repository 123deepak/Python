{
 "cells": [
  {
   "cell_type": "code",
   "execution_count": 11,
   "metadata": {
    "collapsed": true
   },
   "outputs": [],
   "source": [
    "class Node: \n",
    "    def __init__(self, data): \n",
    "        self.data = data\n",
    "        self.next = None"
   ]
  },
  {
   "cell_type": "code",
   "execution_count": 12,
   "metadata": {},
   "outputs": [
    {
     "name": "stdout",
     "output_type": "stream",
     "text": [
      "This is the program of creating and printing a linked list. For this I need your help to enter some numbers in text box\n"
     ]
    }
   ],
   "source": [
    "print(\"This is the program of creating and printing a linked list. For this I need your help to enter some numbers in text box\")"
   ]
  },
  {
   "cell_type": "code",
   "execution_count": 13,
   "metadata": {},
   "outputs": [
    {
     "name": "stdout",
     "output_type": "stream",
     "text": [
      "Enter how many numbers you want to enter:12\n"
     ]
    }
   ],
   "source": [
    "n = input(\"Enter how many numbers you want to enter:\")"
   ]
  },
  {
   "cell_type": "code",
   "execution_count": 14,
   "metadata": {},
   "outputs": [
    {
     "name": "stdout",
     "output_type": "stream",
     "text": [
      "You have chosen to enter 12 numbers\n"
     ]
    }
   ],
   "source": [
    "print(\"You have chosen to enter\", n, \"numbers\")"
   ]
  },
  {
   "cell_type": "code",
   "execution_count": 15,
   "metadata": {},
   "outputs": [
    {
     "name": "stdout",
     "output_type": "stream",
     "text": [
      "Enter the number:10\n",
      "Enter the number:8\n",
      "Enter the number:6\n",
      "Enter the number:4\n",
      "Enter the number:2\n",
      "Enter the number:0\n",
      "Enter the number:9\n",
      "Enter the number:7\n",
      "Enter the number:5\n",
      "Enter the number:3\n",
      "Enter the number:1\n",
      "Enter the number:-1\n"
     ]
    }
   ],
   "source": [
    "listt = []\n",
    "for i in range(int(n)):\n",
    "    listt.append(input(\"Enter the number:\"))"
   ]
  },
  {
   "cell_type": "code",
   "execution_count": 16,
   "metadata": {},
   "outputs": [
    {
     "name": "stdout",
     "output_type": "stream",
     "text": [
      "This is the list of numbers that you have entered:\n",
      "['10', '8', '6', '4', '2', '0', '9', '7', '5', '3', '1', '-1']\n"
     ]
    }
   ],
   "source": [
    "print(\"This is the list of numbers that you have entered:\")\n",
    "print(listt)"
   ]
  },
  {
   "cell_type": "code",
   "execution_count": 17,
   "metadata": {
    "collapsed": true
   },
   "outputs": [],
   "source": [
    "def create_linked_list(head, data):\n",
    "    if head == None:\n",
    "        node = Node(data)\n",
    "        head = node\n",
    "    else:\n",
    "        temp = head\n",
    "        while(temp.next != None):\n",
    "            temp = temp.next \n",
    "        node = Node(data)    \n",
    "        temp.next = node    \n",
    "    return head"
   ]
  },
  {
   "cell_type": "code",
   "execution_count": 18,
   "metadata": {
    "collapsed": true
   },
   "outputs": [],
   "source": [
    "def print_linked_list(head):\n",
    "    while(head.next != None):\n",
    "        print(head.data)\n",
    "        head = head.next\n",
    "    print(head.data)"
   ]
  },
  {
   "cell_type": "code",
   "execution_count": 19,
   "metadata": {
    "collapsed": true
   },
   "outputs": [],
   "source": [
    "head = None\n",
    "for i in range(int(n)):\n",
    "    head = create_linked_list(head, int(listt[i]))"
   ]
  },
  {
   "cell_type": "code",
   "execution_count": 20,
   "metadata": {},
   "outputs": [
    {
     "name": "stdout",
     "output_type": "stream",
     "text": [
      "10\n",
      "8\n",
      "6\n",
      "4\n",
      "2\n",
      "0\n",
      "9\n",
      "7\n",
      "5\n",
      "3\n",
      "1\n",
      "-1\n"
     ]
    }
   ],
   "source": [
    "print_linked_list(head)"
   ]
  }
 ],
 "metadata": {
  "kernelspec": {
   "display_name": "Python 3",
   "language": "python",
   "name": "python3"
  },
  "language_info": {
   "codemirror_mode": {
    "name": "ipython",
    "version": 3
   },
   "file_extension": ".py",
   "mimetype": "text/x-python",
   "name": "python",
   "nbconvert_exporter": "python",
   "pygments_lexer": "ipython3",
   "version": "3.6.3"
  }
 },
 "nbformat": 4,
 "nbformat_minor": 2
}
