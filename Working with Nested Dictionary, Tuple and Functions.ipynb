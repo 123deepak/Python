{
 "cells": [
  {
   "cell_type": "code",
   "execution_count": 147,
   "metadata": {},
   "outputs": [],
   "source": [
    "Countries = { 'India': \n",
    "                     { \n",
    "                         'Language': 'Hindi',\n",
    "                         'Currency': 'INR',\n",
    "                         'TimeZone': 'IST',\n",
    "                         'Population': 1.5 \n",
    "                     },\n",
    "              'US': \n",
    "                     {\n",
    "                         'Language': 'English',\n",
    "                         'Currency': 'USD',\n",
    "                         'TimeZone': 'PST',\n",
    "                         'Population': .32\n",
    "                     }\n",
    "            }"
   ]
  },
  {
   "cell_type": "code",
   "execution_count": 148,
   "metadata": {},
   "outputs": [
    {
     "data": {
      "text/plain": [
       "dict"
      ]
     },
     "execution_count": 148,
     "metadata": {},
     "output_type": "execute_result"
    }
   ],
   "source": [
    "type(Countries)"
   ]
  },
  {
   "cell_type": "code",
   "execution_count": 149,
   "metadata": {},
   "outputs": [],
   "source": [
    "def get_Country_with_highest_population():\n",
    "    maxPopulation = 0.0\n",
    "    maxPopulationTuple = ()\n",
    "    for key, value in Countries.items():\n",
    "        population = value['Population']\n",
    "        if ( population > maxPopulation):\n",
    "            maxPopulationTuple = value\n",
    "    return maxPopulationTuple    #Returns a tuple having details of Country with max population"
   ]
  },
  {
   "cell_type": "code",
   "execution_count": 150,
   "metadata": {},
   "outputs": [],
   "source": [
    "getmaxPopulationTuple = get_Country_with_highest_population()"
   ]
  },
  {
   "cell_type": "code",
   "execution_count": 151,
   "metadata": {},
   "outputs": [],
   "source": [
    "def print_max_Population_Country_Details(t = ()):\n",
    "    print(\"Country having the maximum population, details are as follows:\")\n",
    "    print(\"\\tCurrency is\", t['Currency'])\n",
    "    print(\"\\tPopulation is\", t['Population'])"
   ]
  },
  {
   "cell_type": "code",
   "execution_count": 152,
   "metadata": {},
   "outputs": [
    {
     "name": "stdout",
     "output_type": "stream",
     "text": [
      "Country having the maximum population, details are as follows:\n",
      "\tCurrency is USD\n",
      "\tPopulation is 0.32\n"
     ]
    }
   ],
   "source": [
    "print_max_Population_Country_Details(getmaxPopulationTuple)"
   ]
  },
  {
   "cell_type": "code",
   "execution_count": null,
   "metadata": {
    "collapsed": true
   },
   "outputs": [],
   "source": []
  }
 ],
 "metadata": {
  "kernelspec": {
   "display_name": "Python 3",
   "language": "python",
   "name": "python3"
  },
  "language_info": {
   "codemirror_mode": {
    "name": "ipython",
    "version": 3
   },
   "file_extension": ".py",
   "mimetype": "text/x-python",
   "name": "python",
   "nbconvert_exporter": "python",
   "pygments_lexer": "ipython3",
   "version": "3.6.3"
  }
 },
 "nbformat": 4,
 "nbformat_minor": 2
}
