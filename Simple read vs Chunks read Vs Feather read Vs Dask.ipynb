{
 "cells": [
  {
   "cell_type": "code",
   "execution_count": 4,
   "metadata": {
    "collapsed": true
   },
   "outputs": [],
   "source": [
    "import pandas as pd\n",
    "from tqdm import tqdm"
   ]
  },
  {
   "cell_type": "code",
   "execution_count": 5,
   "metadata": {},
   "outputs": [
    {
     "name": "stdout",
     "output_type": "stream",
     "text": [
      "Wall time: 6.46 s\n"
     ]
    }
   ],
   "source": [
    "%%time\n",
    "loc = \"C:\\\\Users\\\\Deepak\\\\Downloads\\\\AAA.csv\"\n",
    "data = pd.read_csv(loc)"
   ]
  },
  {
   "cell_type": "code",
   "execution_count": 3,
   "metadata": {},
   "outputs": [
    {
     "data": {
      "text/plain": [
       "(166693, 13)"
      ]
     },
     "execution_count": 3,
     "metadata": {},
     "output_type": "execute_result"
    }
   ],
   "source": [
    "data.shape"
   ]
  },
  {
   "cell_type": "code",
   "execution_count": 4,
   "metadata": {},
   "outputs": [
    {
     "data": {
      "text/html": [
       "<div>\n",
       "<style scoped>\n",
       "    .dataframe tbody tr th:only-of-type {\n",
       "        vertical-align: middle;\n",
       "    }\n",
       "\n",
       "    .dataframe tbody tr th {\n",
       "        vertical-align: top;\n",
       "    }\n",
       "\n",
       "    .dataframe thead th {\n",
       "        text-align: right;\n",
       "    }\n",
       "</style>\n",
       "<table border=\"1\" class=\"dataframe\">\n",
       "  <thead>\n",
       "    <tr style=\"text-align: right;\">\n",
       "      <th></th>\n",
       "      <th>id</th>\n",
       "      <th>product_uid</th>\n",
       "      <th>product_title</th>\n",
       "      <th>search_term</th>\n",
       "      <th>product_description</th>\n",
       "      <th>product_description_lengths</th>\n",
       "      <th>search_term_len</th>\n",
       "      <th>title_match_count</th>\n",
       "      <th>desc_match_count</th>\n",
       "      <th>title_search_levenshtein</th>\n",
       "      <th>desc_search_levenshtein</th>\n",
       "      <th>title_search_jaccard</th>\n",
       "      <th>desc_search_jaccard</th>\n",
       "    </tr>\n",
       "  </thead>\n",
       "  <tbody>\n",
       "    <tr>\n",
       "      <th>0</th>\n",
       "      <td>1</td>\n",
       "      <td>100001</td>\n",
       "      <td>simpson strong - tie 12 - gaug angl</td>\n",
       "      <td>90 degre bracket</td>\n",
       "      <td>angl make joint stronger , also provid consist...</td>\n",
       "      <td>1274.0</td>\n",
       "      <td>3</td>\n",
       "      <td>0</td>\n",
       "      <td>1</td>\n",
       "      <td>0.196078</td>\n",
       "      <td>0.027833</td>\n",
       "      <td>0.26087</td>\n",
       "      <td>0.285714</td>\n",
       "    </tr>\n",
       "  </tbody>\n",
       "</table>\n",
       "</div>"
      ],
      "text/plain": [
       "   id  product_uid                        product_title       search_term  \\\n",
       "0   1       100001  simpson strong - tie 12 - gaug angl  90 degre bracket   \n",
       "\n",
       "                                 product_description  \\\n",
       "0  angl make joint stronger , also provid consist...   \n",
       "\n",
       "   product_description_lengths  search_term_len  title_match_count  \\\n",
       "0                       1274.0                3                  0   \n",
       "\n",
       "   desc_match_count  title_search_levenshtein  desc_search_levenshtein  \\\n",
       "0                 1                  0.196078                 0.027833   \n",
       "\n",
       "   title_search_jaccard  desc_search_jaccard  \n",
       "0               0.26087             0.285714  "
      ]
     },
     "execution_count": 4,
     "metadata": {},
     "output_type": "execute_result"
    }
   ],
   "source": [
    "data.head(1)"
   ]
  },
  {
   "cell_type": "code",
   "execution_count": 5,
   "metadata": {
    "collapsed": true
   },
   "outputs": [],
   "source": [
    "data.to_feather('data.feather')"
   ]
  },
  {
   "cell_type": "code",
   "execution_count": 6,
   "metadata": {},
   "outputs": [
    {
     "name": "stdout",
     "output_type": "stream",
     "text": [
      "Wall time: 969 ms\n"
     ]
    }
   ],
   "source": [
    "%%time\n",
    "import feather\n",
    "new_data = feather.read_dataframe('data.feather')"
   ]
  },
  {
   "cell_type": "code",
   "execution_count": 7,
   "metadata": {},
   "outputs": [
    {
     "data": {
      "text/plain": [
       "(166693, 13)"
      ]
     },
     "execution_count": 7,
     "metadata": {},
     "output_type": "execute_result"
    }
   ],
   "source": [
    "new_data.shape"
   ]
  },
  {
   "cell_type": "code",
   "execution_count": 8,
   "metadata": {},
   "outputs": [
    {
     "data": {
      "text/html": [
       "<div>\n",
       "<style scoped>\n",
       "    .dataframe tbody tr th:only-of-type {\n",
       "        vertical-align: middle;\n",
       "    }\n",
       "\n",
       "    .dataframe tbody tr th {\n",
       "        vertical-align: top;\n",
       "    }\n",
       "\n",
       "    .dataframe thead th {\n",
       "        text-align: right;\n",
       "    }\n",
       "</style>\n",
       "<table border=\"1\" class=\"dataframe\">\n",
       "  <thead>\n",
       "    <tr style=\"text-align: right;\">\n",
       "      <th></th>\n",
       "      <th>id</th>\n",
       "      <th>product_uid</th>\n",
       "      <th>product_title</th>\n",
       "      <th>search_term</th>\n",
       "      <th>product_description</th>\n",
       "      <th>product_description_lengths</th>\n",
       "      <th>search_term_len</th>\n",
       "      <th>title_match_count</th>\n",
       "      <th>desc_match_count</th>\n",
       "      <th>title_search_levenshtein</th>\n",
       "      <th>desc_search_levenshtein</th>\n",
       "      <th>title_search_jaccard</th>\n",
       "      <th>desc_search_jaccard</th>\n",
       "    </tr>\n",
       "  </thead>\n",
       "  <tbody>\n",
       "    <tr>\n",
       "      <th>0</th>\n",
       "      <td>1</td>\n",
       "      <td>100001</td>\n",
       "      <td>simpson strong - tie 12 - gaug angl</td>\n",
       "      <td>90 degre bracket</td>\n",
       "      <td>angl make joint stronger , also provid consist...</td>\n",
       "      <td>1274.0</td>\n",
       "      <td>3</td>\n",
       "      <td>0</td>\n",
       "      <td>1</td>\n",
       "      <td>0.196078</td>\n",
       "      <td>0.027833</td>\n",
       "      <td>0.26087</td>\n",
       "      <td>0.285714</td>\n",
       "    </tr>\n",
       "  </tbody>\n",
       "</table>\n",
       "</div>"
      ],
      "text/plain": [
       "   id  product_uid                        product_title       search_term  \\\n",
       "0   1       100001  simpson strong - tie 12 - gaug angl  90 degre bracket   \n",
       "\n",
       "                                 product_description  \\\n",
       "0  angl make joint stronger , also provid consist...   \n",
       "\n",
       "   product_description_lengths  search_term_len  title_match_count  \\\n",
       "0                       1274.0                3                  0   \n",
       "\n",
       "   desc_match_count  title_search_levenshtein  desc_search_levenshtein  \\\n",
       "0                 1                  0.196078                 0.027833   \n",
       "\n",
       "   title_search_jaccard  desc_search_jaccard  \n",
       "0               0.26087             0.285714  "
      ]
     },
     "execution_count": 8,
     "metadata": {},
     "output_type": "execute_result"
    }
   ],
   "source": [
    "new_data.head(1)"
   ]
  },
  {
   "cell_type": "code",
   "execution_count": 9,
   "metadata": {},
   "outputs": [
    {
     "name": "stderr",
     "output_type": "stream",
     "text": [
      "3it [00:05,  1.83s/it]\n"
     ]
    },
    {
     "name": "stdout",
     "output_type": "stream",
     "text": [
      "Wall time: 5.55 s\n"
     ]
    }
   ],
   "source": [
    "%%time\n",
    "loc = \"C:\\\\Users\\\\Deepak\\\\Downloads\\\\AAA_copy.csv\"\n",
    "chunksize = 60000\n",
    "Combined = pd.DataFrame()\n",
    "for chunk in tqdm(pd.read_csv(loc, chunksize=chunksize)):\n",
    "    Combined = pd.concat([Combined, chunk])"
   ]
  },
  {
   "cell_type": "code",
   "execution_count": 10,
   "metadata": {},
   "outputs": [
    {
     "data": {
      "text/plain": [
       "(166693, 13)"
      ]
     },
     "execution_count": 10,
     "metadata": {},
     "output_type": "execute_result"
    }
   ],
   "source": [
    "Combined.shape"
   ]
  },
  {
   "cell_type": "code",
   "execution_count": 1,
   "metadata": {},
   "outputs": [],
   "source": [
    "import dask.dataframe as dd"
   ]
  },
  {
   "cell_type": "code",
   "execution_count": 6,
   "metadata": {},
   "outputs": [
    {
     "name": "stdout",
     "output_type": "stream",
     "text": [
      "Wall time: 387 ms\n"
     ]
    }
   ],
   "source": [
    "%%time\n",
    "ddf = dd.read_csv(loc)"
   ]
  },
  {
   "cell_type": "code",
   "execution_count": 7,
   "metadata": {},
   "outputs": [
    {
     "data": {
      "text/html": [
       "<div>\n",
       "<style scoped>\n",
       "    .dataframe tbody tr th:only-of-type {\n",
       "        vertical-align: middle;\n",
       "    }\n",
       "\n",
       "    .dataframe tbody tr th {\n",
       "        vertical-align: top;\n",
       "    }\n",
       "\n",
       "    .dataframe thead th {\n",
       "        text-align: right;\n",
       "    }\n",
       "</style>\n",
       "<table border=\"1\" class=\"dataframe\">\n",
       "  <thead>\n",
       "    <tr style=\"text-align: right;\">\n",
       "      <th></th>\n",
       "      <th>id</th>\n",
       "      <th>product_uid</th>\n",
       "      <th>product_title</th>\n",
       "      <th>search_term</th>\n",
       "      <th>product_description</th>\n",
       "      <th>product_description_lengths</th>\n",
       "      <th>search_term_len</th>\n",
       "      <th>title_match_count</th>\n",
       "      <th>desc_match_count</th>\n",
       "      <th>title_search_levenshtein</th>\n",
       "      <th>desc_search_levenshtein</th>\n",
       "      <th>title_search_jaccard</th>\n",
       "      <th>desc_search_jaccard</th>\n",
       "    </tr>\n",
       "  </thead>\n",
       "  <tbody>\n",
       "    <tr>\n",
       "      <th>0</th>\n",
       "      <td>1</td>\n",
       "      <td>100001</td>\n",
       "      <td>simpson strong - tie 12 - gaug angl</td>\n",
       "      <td>90 degre bracket</td>\n",
       "      <td>angl make joint stronger , also provid consist...</td>\n",
       "      <td>1274.0</td>\n",
       "      <td>3</td>\n",
       "      <td>0</td>\n",
       "      <td>1</td>\n",
       "      <td>0.196078</td>\n",
       "      <td>0.027833</td>\n",
       "      <td>0.260870</td>\n",
       "      <td>0.285714</td>\n",
       "    </tr>\n",
       "    <tr>\n",
       "      <th>1</th>\n",
       "      <td>4</td>\n",
       "      <td>100001</td>\n",
       "      <td>simpson strong - tie 12 - gaug angl</td>\n",
       "      <td>metal l bracket</td>\n",
       "      <td>angl make joint stronger , also provid consist...</td>\n",
       "      <td>1274.0</td>\n",
       "      <td>3</td>\n",
       "      <td>1</td>\n",
       "      <td>1</td>\n",
       "      <td>0.200000</td>\n",
       "      <td>0.029851</td>\n",
       "      <td>0.350000</td>\n",
       "      <td>0.238095</td>\n",
       "    </tr>\n",
       "    <tr>\n",
       "      <th>2</th>\n",
       "      <td>5</td>\n",
       "      <td>100001</td>\n",
       "      <td>simpson strong - tie 12 - gaug angl</td>\n",
       "      <td>simpson sku abl</td>\n",
       "      <td>angl make joint stronger , also provid consist...</td>\n",
       "      <td>1274.0</td>\n",
       "      <td>3</td>\n",
       "      <td>1</td>\n",
       "      <td>1</td>\n",
       "      <td>0.520000</td>\n",
       "      <td>0.029851</td>\n",
       "      <td>0.526316</td>\n",
       "      <td>0.285714</td>\n",
       "    </tr>\n",
       "    <tr>\n",
       "      <th>3</th>\n",
       "      <td>6</td>\n",
       "      <td>100001</td>\n",
       "      <td>simpson strong - tie 12 - gaug angl</td>\n",
       "      <td>simpson strong tie</td>\n",
       "      <td>angl make joint stronger , also provid consist...</td>\n",
       "      <td>1274.0</td>\n",
       "      <td>3</td>\n",
       "      <td>3</td>\n",
       "      <td>3</td>\n",
       "      <td>0.679245</td>\n",
       "      <td>0.035714</td>\n",
       "      <td>0.647059</td>\n",
       "      <td>0.261905</td>\n",
       "    </tr>\n",
       "    <tr>\n",
       "      <th>4</th>\n",
       "      <td>7</td>\n",
       "      <td>100001</td>\n",
       "      <td>simpson strong - tie 12 - gaug angl</td>\n",
       "      <td>simpson strong tie hcc 668</td>\n",
       "      <td>angl make joint stronger , also provid consist...</td>\n",
       "      <td>1274.0</td>\n",
       "      <td>5</td>\n",
       "      <td>3</td>\n",
       "      <td>3</td>\n",
       "      <td>0.655738</td>\n",
       "      <td>0.047244</td>\n",
       "      <td>0.523810</td>\n",
       "      <td>0.325581</td>\n",
       "    </tr>\n",
       "  </tbody>\n",
       "</table>\n",
       "</div>"
      ],
      "text/plain": [
       "   id  product_uid                        product_title  \\\n",
       "0   1       100001  simpson strong - tie 12 - gaug angl   \n",
       "1   4       100001  simpson strong - tie 12 - gaug angl   \n",
       "2   5       100001  simpson strong - tie 12 - gaug angl   \n",
       "3   6       100001  simpson strong - tie 12 - gaug angl   \n",
       "4   7       100001  simpson strong - tie 12 - gaug angl   \n",
       "\n",
       "                  search_term  \\\n",
       "0            90 degre bracket   \n",
       "1             metal l bracket   \n",
       "2             simpson sku abl   \n",
       "3          simpson strong tie   \n",
       "4  simpson strong tie hcc 668   \n",
       "\n",
       "                                 product_description  \\\n",
       "0  angl make joint stronger , also provid consist...   \n",
       "1  angl make joint stronger , also provid consist...   \n",
       "2  angl make joint stronger , also provid consist...   \n",
       "3  angl make joint stronger , also provid consist...   \n",
       "4  angl make joint stronger , also provid consist...   \n",
       "\n",
       "   product_description_lengths  search_term_len  title_match_count  \\\n",
       "0                       1274.0                3                  0   \n",
       "1                       1274.0                3                  1   \n",
       "2                       1274.0                3                  1   \n",
       "3                       1274.0                3                  3   \n",
       "4                       1274.0                5                  3   \n",
       "\n",
       "   desc_match_count  title_search_levenshtein  desc_search_levenshtein  \\\n",
       "0                 1                  0.196078                 0.027833   \n",
       "1                 1                  0.200000                 0.029851   \n",
       "2                 1                  0.520000                 0.029851   \n",
       "3                 3                  0.679245                 0.035714   \n",
       "4                 3                  0.655738                 0.047244   \n",
       "\n",
       "   title_search_jaccard  desc_search_jaccard  \n",
       "0              0.260870             0.285714  \n",
       "1              0.350000             0.238095  \n",
       "2              0.526316             0.285714  \n",
       "3              0.647059             0.261905  \n",
       "4              0.523810             0.325581  "
      ]
     },
     "execution_count": 7,
     "metadata": {},
     "output_type": "execute_result"
    }
   ],
   "source": [
    "ddf.head()"
   ]
  },
  {
   "cell_type": "code",
   "execution_count": 8,
   "metadata": {},
   "outputs": [
    {
     "data": {
      "text/plain": [
       "(Delayed('int-714ee6c1-cb4e-45b8-ad38-91f9bdd5fa9a'), 13)"
      ]
     },
     "execution_count": 8,
     "metadata": {},
     "output_type": "execute_result"
    }
   ],
   "source": [
    "ddf.shape"
   ]
  },
  {
   "cell_type": "code",
   "execution_count": 9,
   "metadata": {},
   "outputs": [
    {
     "data": {
      "text/html": [
       "<div><strong>Dask DataFrame Structure:</strong></div>\n",
       "<div>\n",
       "<style scoped>\n",
       "    .dataframe tbody tr th:only-of-type {\n",
       "        vertical-align: middle;\n",
       "    }\n",
       "\n",
       "    .dataframe tbody tr th {\n",
       "        vertical-align: top;\n",
       "    }\n",
       "\n",
       "    .dataframe thead th {\n",
       "        text-align: right;\n",
       "    }\n",
       "</style>\n",
       "<table border=\"1\" class=\"dataframe\">\n",
       "  <thead>\n",
       "    <tr style=\"text-align: right;\">\n",
       "      <th></th>\n",
       "      <th>id</th>\n",
       "      <th>product_uid</th>\n",
       "      <th>product_description_lengths</th>\n",
       "      <th>search_term_len</th>\n",
       "      <th>title_match_count</th>\n",
       "      <th>desc_match_count</th>\n",
       "      <th>title_search_levenshtein</th>\n",
       "      <th>desc_search_levenshtein</th>\n",
       "      <th>title_search_jaccard</th>\n",
       "      <th>desc_search_jaccard</th>\n",
       "    </tr>\n",
       "    <tr>\n",
       "      <th>npartitions=1</th>\n",
       "      <th></th>\n",
       "      <th></th>\n",
       "      <th></th>\n",
       "      <th></th>\n",
       "      <th></th>\n",
       "      <th></th>\n",
       "      <th></th>\n",
       "      <th></th>\n",
       "      <th></th>\n",
       "      <th></th>\n",
       "    </tr>\n",
       "  </thead>\n",
       "  <tbody>\n",
       "    <tr>\n",
       "      <th></th>\n",
       "      <td>int64</td>\n",
       "      <td>int64</td>\n",
       "      <td>float64</td>\n",
       "      <td>int64</td>\n",
       "      <td>int64</td>\n",
       "      <td>int64</td>\n",
       "      <td>float64</td>\n",
       "      <td>float64</td>\n",
       "      <td>float64</td>\n",
       "      <td>float64</td>\n",
       "    </tr>\n",
       "    <tr>\n",
       "      <th></th>\n",
       "      <td>...</td>\n",
       "      <td>...</td>\n",
       "      <td>...</td>\n",
       "      <td>...</td>\n",
       "      <td>...</td>\n",
       "      <td>...</td>\n",
       "      <td>...</td>\n",
       "      <td>...</td>\n",
       "      <td>...</td>\n",
       "      <td>...</td>\n",
       "    </tr>\n",
       "  </tbody>\n",
       "</table>\n",
       "</div>\n",
       "<div>Dask Name: describe, 182 tasks</div>"
      ],
      "text/plain": [
       "Dask DataFrame Structure:\n",
       "                  id product_uid product_description_lengths search_term_len title_match_count desc_match_count title_search_levenshtein desc_search_levenshtein title_search_jaccard desc_search_jaccard\n",
       "npartitions=1                                                                                                                                                                                            \n",
       "               int64       int64                     float64           int64             int64            int64                  float64                 float64              float64             float64\n",
       "                 ...         ...                         ...             ...               ...              ...                      ...                     ...                  ...                 ...\n",
       "Dask Name: describe, 182 tasks"
      ]
     },
     "execution_count": 9,
     "metadata": {},
     "output_type": "execute_result"
    }
   ],
   "source": [
    "ddf.describe()"
   ]
  },
  {
   "cell_type": "code",
   "execution_count": 10,
   "metadata": {},
   "outputs": [
    {
     "data": {
      "text/html": [
       "<div>\n",
       "<style scoped>\n",
       "    .dataframe tbody tr th:only-of-type {\n",
       "        vertical-align: middle;\n",
       "    }\n",
       "\n",
       "    .dataframe tbody tr th {\n",
       "        vertical-align: top;\n",
       "    }\n",
       "\n",
       "    .dataframe thead th {\n",
       "        text-align: right;\n",
       "    }\n",
       "</style>\n",
       "<table border=\"1\" class=\"dataframe\">\n",
       "  <thead>\n",
       "    <tr style=\"text-align: right;\">\n",
       "      <th></th>\n",
       "      <th>id</th>\n",
       "      <th>product_uid</th>\n",
       "      <th>product_description_lengths</th>\n",
       "      <th>search_term_len</th>\n",
       "      <th>title_match_count</th>\n",
       "      <th>desc_match_count</th>\n",
       "      <th>title_search_levenshtein</th>\n",
       "      <th>desc_search_levenshtein</th>\n",
       "      <th>title_search_jaccard</th>\n",
       "      <th>desc_search_jaccard</th>\n",
       "    </tr>\n",
       "  </thead>\n",
       "  <tbody>\n",
       "    <tr>\n",
       "      <th>count</th>\n",
       "      <td>166693.000000</td>\n",
       "      <td>166693.000000</td>\n",
       "      <td>138388.000000</td>\n",
       "      <td>166693.000000</td>\n",
       "      <td>166693.000000</td>\n",
       "      <td>166693.000000</td>\n",
       "      <td>166693.000000</td>\n",
       "      <td>166693.000000</td>\n",
       "      <td>166693.000000</td>\n",
       "      <td>166693.000000</td>\n",
       "    </tr>\n",
       "    <tr>\n",
       "      <th>mean</th>\n",
       "      <td>123932.839741</td>\n",
       "      <td>149713.170445</td>\n",
       "      <td>1518.953168</td>\n",
       "      <td>3.197147</td>\n",
       "      <td>2.201328</td>\n",
       "      <td>1.982225</td>\n",
       "      <td>0.318042</td>\n",
       "      <td>0.053529</td>\n",
       "      <td>0.445372</td>\n",
       "      <td>0.255524</td>\n",
       "    </tr>\n",
       "    <tr>\n",
       "      <th>std</th>\n",
       "      <td>71518.389174</td>\n",
       "      <td>37270.476881</td>\n",
       "      <td>912.196223</td>\n",
       "      <td>1.648729</td>\n",
       "      <td>1.472220</td>\n",
       "      <td>1.601051</td>\n",
       "      <td>0.119808</td>\n",
       "      <td>0.063443</td>\n",
       "      <td>0.135054</td>\n",
       "      <td>0.104344</td>\n",
       "    </tr>\n",
       "    <tr>\n",
       "      <th>min</th>\n",
       "      <td>1.000000</td>\n",
       "      <td>100001.000000</td>\n",
       "      <td>130.000000</td>\n",
       "      <td>0.000000</td>\n",
       "      <td>0.000000</td>\n",
       "      <td>0.000000</td>\n",
       "      <td>0.000000</td>\n",
       "      <td>0.000000</td>\n",
       "      <td>0.000000</td>\n",
       "      <td>0.000000</td>\n",
       "    </tr>\n",
       "    <tr>\n",
       "      <th>25%</th>\n",
       "      <td>53589.750000</td>\n",
       "      <td>113925.000000</td>\n",
       "      <td>980.000000</td>\n",
       "      <td>2.000000</td>\n",
       "      <td>2.000000</td>\n",
       "      <td>1.000000</td>\n",
       "      <td>0.247788</td>\n",
       "      <td>0.022164</td>\n",
       "      <td>0.379310</td>\n",
       "      <td>0.232558</td>\n",
       "    </tr>\n",
       "    <tr>\n",
       "      <th>50%</th>\n",
       "      <td>140397.000000</td>\n",
       "      <td>150792.000000</td>\n",
       "      <td>1389.000000</td>\n",
       "      <td>3.000000</td>\n",
       "      <td>2.000000</td>\n",
       "      <td>2.000000</td>\n",
       "      <td>0.321429</td>\n",
       "      <td>0.035346</td>\n",
       "      <td>0.461538</td>\n",
       "      <td>0.294118</td>\n",
       "    </tr>\n",
       "    <tr>\n",
       "      <th>75%</th>\n",
       "      <td>239292.000000</td>\n",
       "      <td>222968.000000</td>\n",
       "      <td>2040.000000</td>\n",
       "      <td>4.000000</td>\n",
       "      <td>3.000000</td>\n",
       "      <td>3.000000</td>\n",
       "      <td>0.404255</td>\n",
       "      <td>0.081037</td>\n",
       "      <td>0.555556</td>\n",
       "      <td>0.351351</td>\n",
       "    </tr>\n",
       "    <tr>\n",
       "      <th>max</th>\n",
       "      <td>240760.000000</td>\n",
       "      <td>224428.000000</td>\n",
       "      <td>10880.000000</td>\n",
       "      <td>23.000000</td>\n",
       "      <td>23.000000</td>\n",
       "      <td>20.000000</td>\n",
       "      <td>1.000000</td>\n",
       "      <td>0.666667</td>\n",
       "      <td>1.000000</td>\n",
       "      <td>0.750000</td>\n",
       "    </tr>\n",
       "  </tbody>\n",
       "</table>\n",
       "</div>"
      ],
      "text/plain": [
       "                  id    product_uid  product_description_lengths  \\\n",
       "count  166693.000000  166693.000000                138388.000000   \n",
       "mean   123932.839741  149713.170445                  1518.953168   \n",
       "std     71518.389174   37270.476881                   912.196223   \n",
       "min         1.000000  100001.000000                   130.000000   \n",
       "25%     53589.750000  113925.000000                   980.000000   \n",
       "50%    140397.000000  150792.000000                  1389.000000   \n",
       "75%    239292.000000  222968.000000                  2040.000000   \n",
       "max    240760.000000  224428.000000                 10880.000000   \n",
       "\n",
       "       search_term_len  title_match_count  desc_match_count  \\\n",
       "count    166693.000000      166693.000000     166693.000000   \n",
       "mean          3.197147           2.201328          1.982225   \n",
       "std           1.648729           1.472220          1.601051   \n",
       "min           0.000000           0.000000          0.000000   \n",
       "25%           2.000000           2.000000          1.000000   \n",
       "50%           3.000000           2.000000          2.000000   \n",
       "75%           4.000000           3.000000          3.000000   \n",
       "max          23.000000          23.000000         20.000000   \n",
       "\n",
       "       title_search_levenshtein  desc_search_levenshtein  \\\n",
       "count             166693.000000            166693.000000   \n",
       "mean                   0.318042                 0.053529   \n",
       "std                    0.119808                 0.063443   \n",
       "min                    0.000000                 0.000000   \n",
       "25%                    0.247788                 0.022164   \n",
       "50%                    0.321429                 0.035346   \n",
       "75%                    0.404255                 0.081037   \n",
       "max                    1.000000                 0.666667   \n",
       "\n",
       "       title_search_jaccard  desc_search_jaccard  \n",
       "count         166693.000000        166693.000000  \n",
       "mean               0.445372             0.255524  \n",
       "std                0.135054             0.104344  \n",
       "min                0.000000             0.000000  \n",
       "25%                0.379310             0.232558  \n",
       "50%                0.461538             0.294118  \n",
       "75%                0.555556             0.351351  \n",
       "max                1.000000             0.750000  "
      ]
     },
     "execution_count": 10,
     "metadata": {},
     "output_type": "execute_result"
    }
   ],
   "source": [
    "ddf.describe().compute()"
   ]
  }
 ],
 "metadata": {
  "kernelspec": {
   "display_name": "Python 3",
   "language": "python",
   "name": "python3"
  },
  "language_info": {
   "codemirror_mode": {
    "name": "ipython",
    "version": 3
   },
   "file_extension": ".py",
   "mimetype": "text/x-python",
   "name": "python",
   "nbconvert_exporter": "python",
   "pygments_lexer": "ipython3",
   "version": "3.6.3"
  }
 },
 "nbformat": 4,
 "nbformat_minor": 2
}
